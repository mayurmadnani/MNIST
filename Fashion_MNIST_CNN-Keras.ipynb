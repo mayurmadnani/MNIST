{
  "nbformat": 4,
  "nbformat_minor": 0,
  "metadata": {
    "colab": {
      "name": "Fashion_MNIST-CNN-Keras.ipynb",
      "version": "0.3.2",
      "views": {},
      "default_view": {},
      "provenance": [],
      "collapsed_sections": []
    },
    "kernelspec": {
      "name": "python3",
      "display_name": "Python 3"
    },
    "accelerator": "GPU"
  },
  "cells": [
    {
      "metadata": {
        "id": "SnVpapQzNShU",
        "colab_type": "text"
      },
      "cell_type": "markdown",
      "source": [
        "With this tutorial, I present how to build a fashion product recognizer using Convolution Neural Network.\n",
        "\n",
        "Link: https://github.com/zalandoresearch/fashion-mnist"
      ]
    },
    {
      "metadata": {
        "id": "QG0akjUxNzzM",
        "colab_type": "text"
      },
      "cell_type": "markdown",
      "source": [
        "Fashion-MNIST is a dataset of Zalando's article images—consisting of a training set of 60,000 examples and a test set of 10,000 examples. Each example is a 28x28 grayscale image, associated with a label from 10 classes. \n",
        "\n",
        "**It shares the same image size and structure of training and testing splits.** So the below guide remains same as in case of *MNIST-CNN-Keras* tutorial. Do not the dataset loaded here is fashion_mnist instead of mnist."
      ]
    },
    {
      "metadata": {
        "id": "wG6_V58KOjaE",
        "colab_type": "text"
      },
      "cell_type": "markdown",
      "source": [
        "Dataset is loaded below. It has images and label for each image. The whole of dataset is divided into training and testing data."
      ]
    },
    {
      "metadata": {
        "id": "K0SLP6DnI5Wt",
        "colab_type": "code",
        "colab": {
          "autoexec": {
            "startup": false,
            "wait_interval": 0
          },
          "base_uri": "https://localhost:8080/",
          "height": 68
        },
        "outputId": "7b976987-b2fd-446c-bf47-7ca7eee1dd89",
        "executionInfo": {
          "status": "ok",
          "timestamp": 1531244941697,
          "user_tz": -330,
          "elapsed": 3169,
          "user": {
            "displayName": "Mayur Madnani",
            "photoUrl": "//lh6.googleusercontent.com/-DR9irWHiJKI/AAAAAAAAAAI/AAAAAAAADgc/zqyKQCNogr4/s50-c-k-no/photo.jpg",
            "userId": "107858200557419873749"
          }
        }
      },
      "cell_type": "code",
      "source": [
        "from keras.datasets import fashion_mnist\n",
        "\n",
        "(X_train, y_train), (X_test, y_test) = fashion_mnist.load_data()\n",
        "print(X_train.shape, y_train.shape)\n",
        "print(X_test.shape, y_test.shape)"
      ],
      "execution_count": 1,
      "outputs": [
        {
          "output_type": "stream",
          "text": [
            "Using TensorFlow backend.\n"
          ],
          "name": "stderr"
        },
        {
          "output_type": "stream",
          "text": [
            "(60000, 28, 28) (60000,)\n",
            "(10000, 28, 28) (10000,)\n"
          ],
          "name": "stdout"
        }
      ]
    },
    {
      "metadata": {
        "id": "2liKYB04Ozh9",
        "colab_type": "text"
      },
      "cell_type": "markdown",
      "source": [
        "Above, we obeserve that in total of 70K images, 60K are used for training and 10K will be used for training.\n",
        "Also, each image has dimension 28 x 28 (represented by the X_train and X_test). Y_train and Y_test are vectors of size 60K and 10K i.e. each image has a corresponding value here."
      ]
    },
    {
      "metadata": {
        "id": "RJx7BafTPYHN",
        "colab_type": "text"
      },
      "cell_type": "markdown",
      "source": [
        "Lets see how the data looks like"
      ]
    },
    {
      "metadata": {
        "id": "4ZSQKzlEJRSs",
        "colab_type": "code",
        "colab": {
          "autoexec": {
            "startup": false,
            "wait_interval": 0
          },
          "base_uri": "https://localhost:8080/",
          "height": 584
        },
        "outputId": "7b989757-8507-4d6f-d4b1-45008e226e70",
        "executionInfo": {
          "status": "ok",
          "timestamp": 1531244946296,
          "user_tz": -330,
          "elapsed": 3676,
          "user": {
            "displayName": "Mayur Madnani",
            "photoUrl": "//lh6.googleusercontent.com/-DR9irWHiJKI/AAAAAAAAAAI/AAAAAAAADgc/zqyKQCNogr4/s50-c-k-no/photo.jpg",
            "userId": "107858200557419873749"
          }
        }
      },
      "cell_type": "code",
      "source": [
        "import numpy as np\n",
        "import matplotlib\n",
        "import matplotlib.pyplot as plt\n",
        "\n",
        "def overview(start, end, X):\n",
        "    fig = plt.figure(figsize=(10,10))\n",
        "    for i in range(start, end):\n",
        "        input_img = X[i:(i+1),:,:]\n",
        "        ax = fig.add_subplot(5,5,i+1)\n",
        "        ax.imshow(input_img[0,:,:])\n",
        "        plt.xticks(np.array([]))\n",
        "        plt.yticks(np.array([]))\n",
        "        plt.tight_layout()\n",
        "    plt.show()\n",
        "overview(0,20, X_train)"
      ],
      "execution_count": 2,
      "outputs": [
        {
          "output_type": "display_data",
          "data": {
            "image/png": "[encoded data removed]",
            "text/plain": [
              "<matplotlib.figure.Figure at 0x7f5fe4e51278>"
            ]
          },
          "metadata": {
            "tags": []
          }
        }
      ]
    },
    {
      "metadata": {
        "id": "9E6Sf252R_D7",
        "colab_type": "text"
      },
      "cell_type": "markdown",
      "source": [
        "Before we feed these images to the network, we do some transformations on the input data.\n",
        "\n",
        "First we make the imge shape as 28 x 28 x 1 i.e. adding a depth of 1 as the input image as seen above has only grayscale channel. Also, the input data is normalized in range of 0 to 1 and made of type float.\n"
      ]
    },
    {
      "metadata": {
        "id": "Q4sxbAWVJfHH",
        "colab_type": "code",
        "colab": {
          "autoexec": {
            "startup": false,
            "wait_interval": 0
          }
        }
      },
      "cell_type": "code",
      "source": [
        "X_train = X_train.reshape(X_train.shape[0], 28, 28, 1)\n",
        "X_test = X_test.reshape(X_test.shape[0], 28, 28, 1)\n",
        "\n",
        "X_train = X_train.astype('float32')\n",
        "X_test = X_test.astype('float32')\n",
        "\n",
        "X_train/=255\n",
        "X_test/=255"
      ],
      "execution_count": 0,
      "outputs": []
    },
    {
      "metadata": {
        "id": "-KxhyMxtTRkF",
        "colab_type": "code",
        "colab": {
          "autoexec": {
            "startup": false,
            "wait_interval": 0
          },
          "base_uri": "https://localhost:8080/",
          "height": 51
        },
        "outputId": "9a0ee1ca-3298-4788-f2c4-e8712c844dfe",
        "executionInfo": {
          "status": "ok",
          "timestamp": 1531244950417,
          "user_tz": -330,
          "elapsed": 2835,
          "user": {
            "displayName": "Mayur Madnani",
            "photoUrl": "//lh6.googleusercontent.com/-DR9irWHiJKI/AAAAAAAAAAI/AAAAAAAADgc/zqyKQCNogr4/s50-c-k-no/photo.jpg",
            "userId": "107858200557419873749"
          }
        }
      },
      "cell_type": "code",
      "source": [
        "print('Training: ',X_train.shape)\n",
        "print('Test: ',X_test.shape)"
      ],
      "execution_count": 4,
      "outputs": [
        {
          "output_type": "stream",
          "text": [
            "Training:  (60000, 28, 28, 1)\n",
            "Test:  (10000, 28, 28, 1)\n"
          ],
          "name": "stdout"
        }
      ]
    },
    {
      "metadata": {
        "id": "K6C4waGUTeAj",
        "colab_type": "text"
      },
      "cell_type": "markdown",
      "source": [
        "Now for the class labels, we have a number representing it. Binary class matrix is created for the labels"
      ]
    },
    {
      "metadata": {
        "id": "Z8j_aze6JgpO",
        "colab_type": "code",
        "colab": {
          "autoexec": {
            "startup": false,
            "wait_interval": 0
          }
        }
      },
      "cell_type": "code",
      "source": [
        "from keras.utils import np_utils\n",
        "\n",
        "num_classes = 10\n",
        "\n",
        "Y_train = np_utils.to_categorical(y_train, num_classes)\n",
        "Y_test = np_utils.to_categorical(y_test, num_classes)"
      ],
      "execution_count": 0,
      "outputs": []
    },
    {
      "metadata": {
        "id": "xPJzHXFNa0ZG",
        "colab_type": "code",
        "colab": {
          "autoexec": {
            "startup": false,
            "wait_interval": 0
          },
          "base_uri": "https://localhost:8080/",
          "height": 51
        },
        "outputId": "06fb0466-369e-4b97-bfc0-49870edae480",
        "executionInfo": {
          "status": "ok",
          "timestamp": 1531244952356,
          "user_tz": -330,
          "elapsed": 826,
          "user": {
            "displayName": "Mayur Madnani",
            "photoUrl": "//lh6.googleusercontent.com/-DR9irWHiJKI/AAAAAAAAAAI/AAAAAAAADgc/zqyKQCNogr4/s50-c-k-no/photo.jpg",
            "userId": "107858200557419873749"
          }
        }
      },
      "cell_type": "code",
      "source": [
        "print('Training: ',Y_train.shape)\n",
        "print('Test: ',Y_test.shape)"
      ],
      "execution_count": 6,
      "outputs": [
        {
          "output_type": "stream",
          "text": [
            "Training:  (60000, 10)\n",
            "Test:  (10000, 10)\n"
          ],
          "name": "stdout"
        }
      ]
    },
    {
      "metadata": {
        "id": "5Sc0VYTva3PM",
        "colab_type": "text"
      },
      "cell_type": "markdown",
      "source": [
        "Below is the network architecture for CNN."
      ]
    },
    {
      "metadata": {
        "id": "_F-CWvAdKABy",
        "colab_type": "code",
        "colab": {
          "autoexec": {
            "startup": false,
            "wait_interval": 0
          }
        }
      },
      "cell_type": "code",
      "source": [
        "from keras.models import Sequential\n",
        "from keras.layers import Convolution2D, Activation, BatchNormalization, MaxPooling2D, Dropout, Dense, Flatten, AveragePooling2D\n",
        "\n",
        "model = Sequential()\n",
        "\n",
        "model.add(Convolution2D(32, (3, 3), padding='same', input_shape=(28,28,1)))\n",
        "model.add(BatchNormalization())\n",
        "model.add(Activation('relu'))\n",
        "model.add(MaxPooling2D(pool_size=(2, 2), strides=None, padding='same'))\n",
        "model.add(Dropout(0.25))\n",
        "\n",
        "model.add(Convolution2D(64, (3, 3), padding='same'))\n",
        "model.add(BatchNormalization())\n",
        "model.add(Activation('relu'))\n",
        "model.add(MaxPooling2D(pool_size=(2, 2), strides=None, padding='same'))\n",
        "model.add(Dropout(0.25))\n",
        "\n",
        "model.add(Convolution2D(128, (3, 3), padding='same'))\n",
        "model.add(BatchNormalization())\n",
        "model.add(Activation('relu'))\n",
        "model.add(MaxPooling2D(pool_size=(2, 2), strides=None, padding='same'))\n",
        "model.add(Dropout(0.25))\n",
        "\n",
        "model.add(Convolution2D(256, (3, 3), padding='same'))\n",
        "model.add(BatchNormalization())\n",
        "model.add(Activation('relu'))\n",
        "model.add(MaxPooling2D(pool_size=(2, 2), strides=None, padding='same'))\n",
        "model.add(Dropout(0.25))\n",
        "\n",
        "model.add(Flatten())\n",
        "\n",
        "model.add(Dense(128))\n",
        "model.add(BatchNormalization())\n",
        "model.add(Activation('relu'))\n",
        "model.add(Dropout(0.25))\n",
        "\n",
        "model.add(Dense(64))\n",
        "model.add(BatchNormalization())\n",
        "model.add(Activation('relu'))\n",
        "model.add(Dropout(0.25))\n",
        "\n",
        "model.add(Dense(10))\n",
        "model.add(Activation('softmax'))"
      ],
      "execution_count": 0,
      "outputs": []
    },
    {
      "metadata": {
        "id": "IE_uadb8a_fi",
        "colab_type": "text"
      },
      "cell_type": "markdown",
      "source": [
        "We can see the summary of the model:"
      ]
    },
    {
      "metadata": {
        "id": "VO9MPGIcKS4k",
        "colab_type": "code",
        "colab": {
          "autoexec": {
            "startup": false,
            "wait_interval": 0
          },
          "base_uri": "https://localhost:8080/",
          "height": 1190
        },
        "outputId": "406f1f04-91a0-44ef-f738-d110a4516c8c",
        "executionInfo": {
          "status": "ok",
          "timestamp": 1531244955794,
          "user_tz": -330,
          "elapsed": 874,
          "user": {
            "displayName": "Mayur Madnani",
            "photoUrl": "//lh6.googleusercontent.com/-DR9irWHiJKI/AAAAAAAAAAI/AAAAAAAADgc/zqyKQCNogr4/s50-c-k-no/photo.jpg",
            "userId": "107858200557419873749"
          }
        }
      },
      "cell_type": "code",
      "source": [
        "model.summary()"
      ],
      "execution_count": 8,
      "outputs": [
        {
          "output_type": "stream",
          "text": [
            "_________________________________________________________________\n",
            "Layer (type)                 Output Shape              Param #   \n",
            "=================================================================\n",
            "conv2d_1 (Conv2D)            (None, 28, 28, 32)        320       \n",
            "_________________________________________________________________\n",
            "batch_normalization_1 (Batch (None, 28, 28, 32)        128       \n",
            "_________________________________________________________________\n",
            "activation_1 (Activation)    (None, 28, 28, 32)        0         \n",
            "_________________________________________________________________\n",
            "max_pooling2d_1 (MaxPooling2 (None, 14, 14, 32)        0         \n",
            "_________________________________________________________________\n",
            "dropout_1 (Dropout)          (None, 14, 14, 32)        0         \n",
            "_________________________________________________________________\n",
            "conv2d_2 (Conv2D)            (None, 14, 14, 64)        18496     \n",
            "_________________________________________________________________\n",
            "batch_normalization_2 (Batch (None, 14, 14, 64)        256       \n",
            "_________________________________________________________________\n",
            "activation_2 (Activation)    (None, 14, 14, 64)        0         \n",
            "_________________________________________________________________\n",
            "max_pooling2d_2 (MaxPooling2 (None, 7, 7, 64)          0         \n",
            "_________________________________________________________________\n",
            "dropout_2 (Dropout)          (None, 7, 7, 64)          0         \n",
            "_________________________________________________________________\n",
            "conv2d_3 (Conv2D)            (None, 7, 7, 128)         73856     \n",
            "_________________________________________________________________\n",
            "batch_normalization_3 (Batch (None, 7, 7, 128)         512       \n",
            "_________________________________________________________________\n",
            "activation_3 (Activation)    (None, 7, 7, 128)         0         \n",
            "_________________________________________________________________\n",
            "max_pooling2d_3 (MaxPooling2 (None, 4, 4, 128)         0         \n",
            "_________________________________________________________________\n",
            "dropout_3 (Dropout)          (None, 4, 4, 128)         0         \n",
            "_________________________________________________________________\n",
            "conv2d_4 (Conv2D)            (None, 4, 4, 256)         295168    \n",
            "_________________________________________________________________\n",
            "batch_normalization_4 (Batch (None, 4, 4, 256)         1024      \n",
            "_________________________________________________________________\n",
            "activation_4 (Activation)    (None, 4, 4, 256)         0         \n",
            "_________________________________________________________________\n",
            "max_pooling2d_4 (MaxPooling2 (None, 2, 2, 256)         0         \n",
            "_________________________________________________________________\n",
            "dropout_4 (Dropout)          (None, 2, 2, 256)         0         \n",
            "_________________________________________________________________\n",
            "flatten_1 (Flatten)          (None, 1024)              0         \n",
            "_________________________________________________________________\n",
            "dense_1 (Dense)              (None, 128)               131200    \n",
            "_________________________________________________________________\n",
            "batch_normalization_5 (Batch (None, 128)               512       \n",
            "_________________________________________________________________\n",
            "activation_5 (Activation)    (None, 128)               0         \n",
            "_________________________________________________________________\n",
            "dropout_5 (Dropout)          (None, 128)               0         \n",
            "_________________________________________________________________\n",
            "dense_2 (Dense)              (None, 64)                8256      \n",
            "_________________________________________________________________\n",
            "batch_normalization_6 (Batch (None, 64)                256       \n",
            "_________________________________________________________________\n",
            "activation_6 (Activation)    (None, 64)                0         \n",
            "_________________________________________________________________\n",
            "dropout_6 (Dropout)          (None, 64)                0         \n",
            "_________________________________________________________________\n",
            "dense_3 (Dense)              (None, 10)                650       \n",
            "_________________________________________________________________\n",
            "activation_7 (Activation)    (None, 10)                0         \n",
            "=================================================================\n",
            "Total params: 530,634\n",
            "Trainable params: 529,290\n",
            "Non-trainable params: 1,344\n",
            "_________________________________________________________________\n"
          ],
          "name": "stdout"
        }
      ]
    },
    {
      "metadata": {
        "id": "yvQ82H64KbAP",
        "colab_type": "code",
        "colab": {
          "autoexec": {
            "startup": false,
            "wait_interval": 0
          }
        }
      },
      "cell_type": "code",
      "source": [
        "model.compile(loss='categorical_crossentropy', optimizer='adam', metrics=['accuracy'])"
      ],
      "execution_count": 0,
      "outputs": []
    },
    {
      "metadata": {
        "id": "e3oq8alCbFt-",
        "colab_type": "text"
      },
      "cell_type": "markdown",
      "source": [
        "Now, finally the model can be run. Here epochs and batch size is configurable."
      ]
    },
    {
      "metadata": {
        "id": "1gR6ioMPKi4w",
        "colab_type": "code",
        "colab": {
          "autoexec": {
            "startup": false,
            "wait_interval": 0
          },
          "base_uri": "https://localhost:8080/",
          "height": 374
        },
        "outputId": "215a098c-6e59-46a8-cb14-248747ee0443",
        "executionInfo": {
          "status": "ok",
          "timestamp": 1531245595422,
          "user_tz": -330,
          "elapsed": 638450,
          "user": {
            "displayName": "Mayur Madnani",
            "photoUrl": "//lh6.googleusercontent.com/-DR9irWHiJKI/AAAAAAAAAAI/AAAAAAAADgc/zqyKQCNogr4/s50-c-k-no/photo.jpg",
            "userId": "107858200557419873749"
          }
        }
      },
      "cell_type": "code",
      "source": [
        "epochs = 10\n",
        "batch_size = 32\n",
        "\n",
        "model.fit(X_train, Y_train, \n",
        "          batch_size=batch_size, epochs=epochs, shuffle=True, verbose=1)"
      ],
      "execution_count": 10,
      "outputs": [
        {
          "output_type": "stream",
          "text": [
            "Epoch 1/10\n",
            "60000/60000 [==============================] - 62s 1ms/step - loss: 0.6296 - acc: 0.7750\n",
            "Epoch 2/10\n",
            " 2720/60000 [>.............................] - ETA: 56s - loss: 0.4244 - acc: 0.8537"
          ],
          "name": "stdout"
        },
        {
          "output_type": "stream",
          "text": [
            "60000/60000 [==============================] - 59s 991us/step - loss: 0.3982 - acc: 0.8572\n",
            "Epoch 3/10\n",
            " 7872/60000 [==>...........................] - ETA: 51s - loss: 0.3704 - acc: 0.8674"
          ],
          "name": "stdout"
        },
        {
          "output_type": "stream",
          "text": [
            "60000/60000 [==============================] - 58s 974us/step - loss: 0.3531 - acc: 0.8742\n",
            "Epoch 4/10\n",
            "10592/60000 [====>.........................] - ETA: 47s - loss: 0.3283 - acc: 0.8849"
          ],
          "name": "stdout"
        },
        {
          "output_type": "stream",
          "text": [
            "60000/60000 [==============================] - 58s 965us/step - loss: 0.3220 - acc: 0.8861\n",
            "Epoch 5/10\n",
            "11520/60000 [====>.........................] - ETA: 50s - loss: 0.3089 - acc: 0.8887"
          ],
          "name": "stdout"
        },
        {
          "output_type": "stream",
          "text": [
            "60000/60000 [==============================] - 60s 993us/step - loss: 0.3006 - acc: 0.8921\n",
            "Epoch 6/10\n",
            "12128/60000 [=====>........................] - ETA: 46s - loss: 0.2831 - acc: 0.8948"
          ],
          "name": "stdout"
        },
        {
          "output_type": "stream",
          "text": [
            "60000/60000 [==============================] - 68s 1ms/step - loss: 0.2842 - acc: 0.8983\n",
            "Epoch 7/10\n",
            " 9056/60000 [===>..........................] - ETA: 53s - loss: 0.2790 - acc: 0.8974"
          ],
          "name": "stdout"
        },
        {
          "output_type": "stream",
          "text": [
            "60000/60000 [==============================] - 64s 1ms/step - loss: 0.2746 - acc: 0.9012\n",
            "Epoch 8/10\n",
            " 9888/60000 [===>..........................] - ETA: 48s - loss: 0.2570 - acc: 0.9069"
          ],
          "name": "stdout"
        },
        {
          "output_type": "stream",
          "text": [
            "60000/60000 [==============================] - 59s 988us/step - loss: 0.2615 - acc: 0.9056\n",
            "Epoch 9/10\n",
            "10432/60000 [====>.........................] - ETA: 55s - loss: 0.2564 - acc: 0.9065"
          ],
          "name": "stdout"
        },
        {
          "output_type": "stream",
          "text": [
            "60000/60000 [==============================] - 67s 1ms/step - loss: 0.2540 - acc: 0.9088\n",
            "Epoch 10/10\n",
            " 7232/60000 [==>...........................] - ETA: 1:17 - loss: 0.2394 - acc: 0.9136"
          ],
          "name": "stdout"
        },
        {
          "output_type": "stream",
          "text": [
            "60000/60000 [==============================] - 80s 1ms/step - loss: 0.2492 - acc: 0.9104\n"
          ],
          "name": "stdout"
        },
        {
          "output_type": "execute_result",
          "data": {
            "text/plain": [
              "<keras.callbacks.History at 0x7f5fdcfd2a20>"
            ]
          },
          "metadata": {
            "tags": []
          },
          "execution_count": 10
        }
      ]
    },
    {
      "metadata": {
        "id": "Ocs2lfmhbPjN",
        "colab_type": "text"
      },
      "cell_type": "markdown",
      "source": [
        "Once, the network is trained, lets see how it performs with test dataset."
      ]
    },
    {
      "metadata": {
        "id": "1cqlqd_jLNxm",
        "colab_type": "code",
        "colab": {
          "autoexec": {
            "startup": false,
            "wait_interval": 0
          },
          "base_uri": "https://localhost:8080/",
          "height": 68
        },
        "outputId": "55908a41-14b0-42ce-bc72-8dc56bb0c06b",
        "executionInfo": {
          "status": "ok",
          "timestamp": 1531245599371,
          "user_tz": -330,
          "elapsed": 3938,
          "user": {
            "displayName": "Mayur Madnani",
            "photoUrl": "//lh6.googleusercontent.com/-DR9irWHiJKI/AAAAAAAAAAI/AAAAAAAADgc/zqyKQCNogr4/s50-c-k-no/photo.jpg",
            "userId": "107858200557419873749"
          }
        }
      },
      "cell_type": "code",
      "source": [
        "score = model.evaluate(X_test, Y_test)\n",
        "print('Evaluation loss: ', score[0])\n",
        "print('Evaluation accuracy: ', score[1])"
      ],
      "execution_count": 11,
      "outputs": [
        {
          "output_type": "stream",
          "text": [
            "10000/10000 [==============================] - 3s 308us/step\n",
            "Evaluation loss:  0.23060567027926446\n",
            "Evaluation accuracy:  0.9158\n"
          ],
          "name": "stdout"
        }
      ]
    }
  ]
}