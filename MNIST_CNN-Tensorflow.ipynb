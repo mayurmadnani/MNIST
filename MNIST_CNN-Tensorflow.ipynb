{
 "cells": [
  {
   "cell_type": "markdown",
   "metadata": {
    "id": "3HiJHZbZTAOg",
    "colab_type": "text"
   },
   "source": [
    "In this tutorial guide, we use tensorflow to predict digits.\n",
    "\n",
    "Tensorflow uses the concepts of graphs and sessions for its computation. If using Keras, these details are abstracted but here it is important to know them."
   ]
  },
  {
   "cell_type": "markdown",
   "metadata": {
    "id": "7GMFx7O8TrFD",
    "colab_type": "text"
   },
   "source": [
    "TF uses a dataflow graph where each node represent a computation wheras edges show the data production or consumption.\n",
    "\n",
    "When we create session in tensorflow that is when we run through the graph."
   ]
  },
  {
   "cell_type": "markdown",
   "metadata": {
    "id": "X4ZEoovwUUys",
    "colab_type": "text"
   },
   "source": [
    "First lets import the usual libraries.\n",
    "\n",
    "We read the handwritten digits data from the mnist dataset and "
   ]
  },
  {
   "cell_type": "code",
   "execution_count": 0,
   "metadata": {
    "id": "lw6RPAwt3XeB",
    "colab_type": "code",
    "colab": {
     "autoexec": {
      "startup": false,
      "wait_interval": 0.0
     }
    }
   },
   "outputs": [],
   "source": [
    "%matplotlib inline\n",
    "import matplotlib.pyplot as plt\n",
    "import tensorflow as tf\n",
    "import numpy as np\n",
    "from sklearn.metrics import confusion_matrix\n",
    "import time\n",
    "from datetime import timedelta\n",
    "import math"
   ]
  },
  {
   "cell_type": "code",
   "execution_count": 2,
   "metadata": {
    "id": "jBf_7HEL9oq-",
    "colab_type": "code",
    "colab": {
     "autoexec": {
      "startup": false,
      "wait_interval": 0.0
     },
     "base_uri": "https://localhost:8080/",
     "height": 411.0
    },
    "outputId": "97742c46-fb32-4974-e410-501f16b6552f",
    "executionInfo": {
     "status": "ok",
     "timestamp": 1.531680917263E12,
     "user_tz": -330.0,
     "elapsed": 2579.0,
     "user": {
      "displayName": "Mayur Madnani",
      "photoUrl": "//lh6.googleusercontent.com/-DR9irWHiJKI/AAAAAAAAAAI/AAAAAAAADgc/zqyKQCNogr4/s50-c-k-no/photo.jpg",
      "userId": "107858200557419873749"
     }
    }
   },
   "outputs": [
    {
     "name": "stdout",
     "output_type": "stream",
     "text": [
      "WARNING:tensorflow:From <ipython-input-2-37adf088ce13>:2: read_data_sets (from tensorflow.contrib.learn.python.learn.datasets.mnist) is deprecated and will be removed in a future version.\n",
      "Instructions for updating:\n",
      "Please use alternatives such as official/mnist/dataset.py from tensorflow/models.\n",
      "WARNING:tensorflow:From /usr/local/lib/python2.7/dist-packages/tensorflow/contrib/learn/python/learn/datasets/mnist.py:260: maybe_download (from tensorflow.contrib.learn.python.learn.datasets.base) is deprecated and will be removed in a future version.\n",
      "Instructions for updating:\n",
      "Please write your own downloading logic.\n",
      "WARNING:tensorflow:From /usr/local/lib/python2.7/dist-packages/tensorflow/contrib/learn/python/learn/datasets/mnist.py:262: extract_images (from tensorflow.contrib.learn.python.learn.datasets.mnist) is deprecated and will be removed in a future version.\n",
      "Instructions for updating:\n",
      "Please use tf.data to implement this functionality.\n",
      "Extracting data/MNIST/train-images-idx3-ubyte.gz\n",
      "WARNING:tensorflow:From /usr/local/lib/python2.7/dist-packages/tensorflow/contrib/learn/python/learn/datasets/mnist.py:267: extract_labels (from tensorflow.contrib.learn.python.learn.datasets.mnist) is deprecated and will be removed in a future version.\n",
      "Instructions for updating:\n",
      "Please use tf.data to implement this functionality.\n",
      "Extracting data/MNIST/train-labels-idx1-ubyte.gz\n",
      "WARNING:tensorflow:From /usr/local/lib/python2.7/dist-packages/tensorflow/contrib/learn/python/learn/datasets/mnist.py:110: dense_to_one_hot (from tensorflow.contrib.learn.python.learn.datasets.mnist) is deprecated and will be removed in a future version.\n",
      "Instructions for updating:\n",
      "Please use tf.one_hot on tensors.\n",
      "Extracting data/MNIST/t10k-images-idx3-ubyte.gz\n",
      "Extracting data/MNIST/t10k-labels-idx1-ubyte.gz\n",
      "WARNING:tensorflow:From /usr/local/lib/python2.7/dist-packages/tensorflow/contrib/learn/python/learn/datasets/mnist.py:290: __init__ (from tensorflow.contrib.learn.python.learn.datasets.mnist) is deprecated and will be removed in a future version.\n",
      "Instructions for updating:\n",
      "Please use alternatives such as official/mnist/dataset.py from tensorflow/models.\n"
     ]
    }
   ],
   "source": [
    "from tensorflow.examples.tutorials.mnist import input_data\n",
    "data = input_data.read_data_sets('data/MNIST/', one_hot=True)"
   ]
  },
  {
   "cell_type": "markdown",
   "metadata": {
    "id": "6EiY-LGNWtCF",
    "colab_type": "text"
   },
   "source": [
    "The data has training, test and validation sets. Below we see the amount of images in each one of them"
   ]
  },
  {
   "cell_type": "code",
   "execution_count": 3,
   "metadata": {
    "id": "Wrihk_iO9qlT",
    "colab_type": "code",
    "colab": {
     "autoexec": {
      "startup": false,
      "wait_interval": 0.0
     },
     "base_uri": "https://localhost:8080/",
     "height": 85.0
    },
    "outputId": "25a42750-74c8-44f9-9408-85bf3f3fb60d",
    "executionInfo": {
     "status": "ok",
     "timestamp": 1.531680917833E12,
     "user_tz": -330.0,
     "elapsed": 561.0,
     "user": {
      "displayName": "Mayur Madnani",
      "photoUrl": "//lh6.googleusercontent.com/-DR9irWHiJKI/AAAAAAAAAAI/AAAAAAAADgc/zqyKQCNogr4/s50-c-k-no/photo.jpg",
      "userId": "107858200557419873749"
     }
    }
   },
   "outputs": [
    {
     "name": "stdout",
     "output_type": "stream",
     "text": [
      "Size of:\n",
      "Training set: 55000\n",
      "Test set: 10000\n",
      "Validation set: 5000\n"
     ]
    }
   ],
   "source": [
    "print(\"Size of:\")\n",
    "print(\"Training set: {}\".format(len(data.train.labels)))\n",
    "print(\"Test set: {}\".format(len(data.test.labels)))\n",
    "print(\"Validation set: {}\".format(len(data.validation.labels)))"
   ]
  },
  {
   "cell_type": "markdown",
   "metadata": {
    "id": "6qrmBRi7aXPD",
    "colab_type": "text"
   },
   "source": [
    "While loading the data itself, for class labels we mentioned a flag one_hot to True, which meant that for each image the label is a vector of 10. In each vector one of the value is 1 and the rest 0, which represents the class of the digit.\n",
    "For test set we need the the class also, so we find it the reverse way, i.e. from one hot we find the class"
   ]
  },
  {
   "cell_type": "code",
   "execution_count": 0,
   "metadata": {
    "id": "33WEYP4g9slF",
    "colab_type": "code",
    "colab": {
     "autoexec": {
      "startup": false,
      "wait_interval": 0.0
     }
    }
   },
   "outputs": [],
   "source": [
    "data.test.cls = np.argmax(data.test.labels, axis=1)\n",
    "num_classes = 10"
   ]
  },
  {
   "cell_type": "code",
   "execution_count": 5,
   "metadata": {
    "id": "LBsQxQ0ybDIY",
    "colab_type": "code",
    "colab": {
     "autoexec": {
      "startup": false,
      "wait_interval": 0.0
     },
     "base_uri": "https://localhost:8080/",
     "height": 34.0
    },
    "outputId": "aff720ba-3056-4f6c-f5d2-156d5ac1130d",
    "executionInfo": {
     "status": "ok",
     "timestamp": 1.531680921268E12,
     "user_tz": -330.0,
     "elapsed": 1113.0,
     "user": {
      "displayName": "Mayur Madnani",
      "photoUrl": "//lh6.googleusercontent.com/-DR9irWHiJKI/AAAAAAAAAAI/AAAAAAAADgc/zqyKQCNogr4/s50-c-k-no/photo.jpg",
      "userId": "107858200557419873749"
     }
    }
   },
   "outputs": [
    {
     "data": {
      "text/plain": [
       "(55000, 784)"
      ]
     },
     "execution_count": 5,
     "metadata": {
      "tags": []
     },
     "output_type": "execute_result"
    }
   ],
   "source": [
    "data.train.images.shape"
   ]
  },
  {
   "cell_type": "markdown",
   "metadata": {
    "id": "ybja1rGwbS-z",
    "colab_type": "text"
   },
   "source": [
    "With the above cell, we see that each image has a shape of 784. These are 784 pixel values which can also be represented as 28x28. And as these are grayscale, there is only one channel."
   ]
  },
  {
   "cell_type": "code",
   "execution_count": 0,
   "metadata": {
    "id": "FJkHwIor9t0F",
    "colab_type": "code",
    "colab": {
     "autoexec": {
      "startup": false,
      "wait_interval": 0.0
     }
    }
   },
   "outputs": [],
   "source": [
    "img_size = 28\n",
    "img_shape = (img_size, img_size)\n",
    "num_channels = 1"
   ]
  },
  {
   "cell_type": "code",
   "execution_count": 7,
   "metadata": {
    "id": "9sTytuy09vc_",
    "colab_type": "code",
    "colab": {
     "autoexec": {
      "startup": false,
      "wait_interval": 0.0
     },
     "base_uri": "https://localhost:8080/",
     "height": 587.0
    },
    "outputId": "cddf25eb-5955-4b0d-ae19-da89529b2cfc",
    "executionInfo": {
     "status": "ok",
     "timestamp": 1.531680927102E12,
     "user_tz": -330.0,
     "elapsed": 2964.0,
     "user": {
      "displayName": "Mayur Madnani",
      "photoUrl": "//lh6.googleusercontent.com/-DR9irWHiJKI/AAAAAAAAAAI/AAAAAAAADgc/zqyKQCNogr4/s50-c-k-no/photo.jpg",
      "userId": "107858200557419873749"
     }
    }
   },
   "outputs": [
    {
     "data": {
      "image/png": "[encoded data removed]",
      "text/plain": [
       "<matplotlib.figure.Figure at 0x7f270eca4bd0>"
      ]
     },
     "metadata": {
      "tags": []
     },
     "output_type": "display_data"
    }
   ],
   "source": [
    "def overview(start, end, images):\n",
    "    fig = plt.figure(figsize=(10,10))\n",
    "    for i in range(start, end):\n",
    "        input_img = images[i]\n",
    "        ax = fig.add_subplot(5,5,i+1)\n",
    "        ax.imshow(input_img.reshape(img_shape))\n",
    "        plt.xticks(np.array([]))\n",
    "        plt.yticks(np.array([]))\n",
    "        plt.tight_layout()\n",
    "    plt.show()\n",
    "overview(0, 20, data.train.images)"
   ]
  },
  {
   "cell_type": "markdown",
   "metadata": {
    "id": "An-EHX8He3sT",
    "colab_type": "text"
   },
   "source": [
    "Now we go to create the computational graph.\n",
    "\n",
    "A heavy use of placeholders is done to effectively use the graph. We give it a name, shape and a type. This way any data can flow through it. This unit is called a tensor in the graph.\n",
    "\n",
    "As each input will be a 784 size vector, before sending it to the network we shall convert each image from a 784 vector to a 28x28x1"
   ]
  },
  {
   "cell_type": "code",
   "execution_count": 0,
   "metadata": {
    "id": "GayLb0HR90lo",
    "colab_type": "code",
    "colab": {
     "autoexec": {
      "startup": false,
      "wait_interval": 0.0
     }
    }
   },
   "outputs": [],
   "source": [
    "x = tf.placeholder(tf.float32, shape=[None, img_size * img_size], name='x')\n",
    "y = tf.placeholder(tf.float32, shape=[None, num_classes], name='y')\n",
    "\n",
    "X_image = tf.reshape(x, [-1, img_size, img_size, num_channels])"
   ]
  },
  {
   "cell_type": "markdown",
   "metadata": {
    "id": "ErhfXDDhiDZK",
    "colab_type": "text"
   },
   "source": [
    "Also, we find the class each input image belongs to from the Y_label which is 10 dimensional class vector in this case."
   ]
  },
  {
   "cell_type": "code",
   "execution_count": 0,
   "metadata": {
    "id": "WARAUQmJ923j",
    "colab_type": "code",
    "colab": {
     "autoexec": {
      "startup": false,
      "wait_interval": 0.0
     }
    }
   },
   "outputs": [],
   "source": [
    "Y_label_cls = tf.argmax(y, axis=1)"
   ]
  },
  {
   "cell_type": "markdown",
   "metadata": {
    "id": "rHPlA4frmtns",
    "colab_type": "text"
   },
   "source": [
    "Below we define our network"
   ]
  },
  {
   "cell_type": "code",
   "execution_count": 0,
   "metadata": {
    "id": "44MAXaGG94mR",
    "colab_type": "code",
    "colab": {
     "autoexec": {
      "startup": false,
      "wait_interval": 0.0
     }
    }
   },
   "outputs": [],
   "source": [
    "conv1 = tf.layers.conv2d(inputs=X_image, filters=32, kernel_size=[3, 3], padding=\"same\", activation=tf.nn.relu)\n",
    "pool1 = tf.layers.max_pooling2d(inputs=conv1, pool_size=[2, 2], padding='SAME', strides=2)\n",
    "drop1 = tf.layers.dropout(inputs=pool1, rate=0.25)"
   ]
  },
  {
   "cell_type": "code",
   "execution_count": 0,
   "metadata": {
    "id": "pbLi1ycLAjcc",
    "colab_type": "code",
    "colab": {
     "autoexec": {
      "startup": false,
      "wait_interval": 0.0
     }
    }
   },
   "outputs": [],
   "source": [
    "conv2 = tf.layers.conv2d(inputs=drop1, filters=64, kernel_size=[3, 3], padding=\"same\", activation=tf.nn.relu)\n",
    "pool2 = tf.layers.max_pooling2d(inputs=conv2, pool_size=[2, 2], padding='SAME', strides=2)\n",
    "drop2 = tf.layers.dropout(inputs=pool2, rate=0.25)"
   ]
  },
  {
   "cell_type": "code",
   "execution_count": 0,
   "metadata": {
    "id": "HI--7U2_mycW",
    "colab_type": "code",
    "colab": {
     "autoexec": {
      "startup": false,
      "wait_interval": 0.0
     }
    }
   },
   "outputs": [],
   "source": [
    "conv3 = tf.layers.conv2d(inputs=drop2, filters=128, kernel_size=[3, 3], padding=\"same\", activation=tf.nn.relu)\n",
    "pool3 = tf.layers.max_pooling2d(inputs=conv3, pool_size=[2, 2], padding='SAME', strides=2)\n",
    "drop3 = tf.layers.dropout(inputs=pool3, rate=0.25)"
   ]
  },
  {
   "cell_type": "code",
   "execution_count": 0,
   "metadata": {
    "id": "QR-z9dMbmzK7",
    "colab_type": "code",
    "colab": {
     "autoexec": {
      "startup": false,
      "wait_interval": 0.0
     }
    }
   },
   "outputs": [],
   "source": [
    "conv4 = tf.layers.conv2d(inputs=drop3, filters=256, kernel_size=[3, 3], padding=\"same\", activation=tf.nn.relu)\n",
    "pool4 = tf.layers.max_pooling2d(inputs=conv4, pool_size=[2, 2], padding='SAME', strides=2)\n",
    "drop4 = tf.layers.dropout(inputs=pool4, rate=0.25)"
   ]
  },
  {
   "cell_type": "code",
   "execution_count": 0,
   "metadata": {
    "id": "EtBjP7k1nKHY",
    "colab_type": "code",
    "colab": {
     "autoexec": {
      "startup": false,
      "wait_interval": 0.0
     }
    }
   },
   "outputs": [],
   "source": [
    "flat = tf.layers.flatten(drop4)"
   ]
  },
  {
   "cell_type": "code",
   "execution_count": 0,
   "metadata": {
    "id": "DsfhhsQ7nKJ8",
    "colab_type": "code",
    "colab": {
     "autoexec": {
      "startup": false,
      "wait_interval": 0.0
     }
    }
   },
   "outputs": [],
   "source": [
    "dense1 = tf.layers.dense(inputs=flat, units=128, activation=tf.nn.relu)\n",
    "drop5 = tf.layers.dropout(inputs=dense1, rate=0.25)"
   ]
  },
  {
   "cell_type": "code",
   "execution_count": 0,
   "metadata": {
    "id": "o6fhpfGjnKMY",
    "colab_type": "code",
    "colab": {
     "autoexec": {
      "startup": false,
      "wait_interval": 0.0
     }
    }
   },
   "outputs": [],
   "source": [
    "dense2 = tf.layers.dense(inputs=drop5, units=128, activation=tf.nn.relu)\n",
    "drop5 = tf.layers.dropout(inputs=dense2, rate=0.25)"
   ]
  },
  {
   "cell_type": "code",
   "execution_count": 0,
   "metadata": {
    "id": "nSFlHbJFnKPt",
    "colab_type": "code",
    "colab": {
     "autoexec": {
      "startup": false,
      "wait_interval": 0.0
     }
    }
   },
   "outputs": [],
   "source": [
    "logits = tf.layers.dense(inputs=drop5, units=10)"
   ]
  },
  {
   "cell_type": "code",
   "execution_count": 0,
   "metadata": {
    "id": "HoybDzrt6Y_Y",
    "colab_type": "code",
    "colab": {
     "autoexec": {
      "startup": false,
      "wait_interval": 0.0
     }
    }
   },
   "outputs": [],
   "source": [
    "Y_pred = tf.nn.softmax(logits=logits)\n"
   ]
  },
  {
   "cell_type": "code",
   "execution_count": 19,
   "metadata": {
    "id": "1IGuV6mH4D3i",
    "colab_type": "code",
    "colab": {
     "autoexec": {
      "startup": false,
      "wait_interval": 0.0
     },
     "base_uri": "https://localhost:8080/",
     "height": 68.0
    },
    "outputId": "8b0d95c2-4032-423c-d9e3-60d86fbe9f2d",
    "executionInfo": {
     "status": "ok",
     "timestamp": 1.531680946013E12,
     "user_tz": -330.0,
     "elapsed": 874.0,
     "user": {
      "displayName": "Mayur Madnani",
      "photoUrl": "//lh6.googleusercontent.com/-DR9irWHiJKI/AAAAAAAAAAI/AAAAAAAADgc/zqyKQCNogr4/s50-c-k-no/photo.jpg",
      "userId": "107858200557419873749"
     }
    }
   },
   "outputs": [
    {
     "name": "stdout",
     "output_type": "stream",
     "text": [
      "WARNING:tensorflow:From <ipython-input-19-331088d1be72>:1: calling argmax (from tensorflow.python.ops.math_ops) with dimension is deprecated and will be removed in a future version.\n",
      "Instructions for updating:\n",
      "Use the `axis` argument instead\n"
     ]
    }
   ],
   "source": [
    "Y_pred_cls = tf.argmax(Y_pred, dimension=1)\n"
   ]
  },
  {
   "cell_type": "code",
   "execution_count": 0,
   "metadata": {
    "id": "jcE1t3jb4Qx5",
    "colab_type": "code",
    "colab": {
     "autoexec": {
      "startup": false,
      "wait_interval": 0.0
     }
    }
   },
   "outputs": [],
   "source": [
    "cross_entropy = tf.nn.softmax_cross_entropy_with_logits_v2(labels=y, logits=logits)"
   ]
  },
  {
   "cell_type": "code",
   "execution_count": 0,
   "metadata": {
    "id": "Id30h8iG4iAZ",
    "colab_type": "code",
    "colab": {
     "autoexec": {
      "startup": false,
      "wait_interval": 0.0
     }
    }
   },
   "outputs": [],
   "source": [
    "loss = tf.reduce_mean(cross_entropy)"
   ]
  },
  {
   "cell_type": "code",
   "execution_count": 0,
   "metadata": {
    "id": "leMz_HQT4kF0",
    "colab_type": "code",
    "colab": {
     "autoexec": {
      "startup": false,
      "wait_interval": 0.0
     }
    }
   },
   "outputs": [],
   "source": [
    "optimizer = tf.train.AdamOptimizer(learning_rate=1e-4).minimize(loss)"
   ]
  },
  {
   "cell_type": "code",
   "execution_count": 0,
   "metadata": {
    "id": "VTQvIjH-HJJC",
    "colab_type": "code",
    "colab": {
     "autoexec": {
      "startup": false,
      "wait_interval": 0.0
     }
    }
   },
   "outputs": [],
   "source": [
    "correct_prediction = tf.equal(Y_pred_cls, Y_label_cls)\n",
    "accuracy = tf.reduce_mean(tf.cast(correct_prediction, tf.float32))"
   ]
  },
  {
   "cell_type": "markdown",
   "metadata": {
    "id": "lMaM0lClOpjv",
    "colab_type": "text"
   },
   "source": [
    "We define some parameters like batch size and epochs to run for"
   ]
  },
  {
   "cell_type": "code",
   "execution_count": 0,
   "metadata": {
    "id": "R_c5jjan6k1F",
    "colab_type": "code",
    "colab": {
     "autoexec": {
      "startup": false,
      "wait_interval": 0.0
     }
    }
   },
   "outputs": [],
   "source": [
    "batch_size = 32\n",
    "num_epochs = 25"
   ]
  },
  {
   "cell_type": "markdown",
   "metadata": {
    "id": "HZ8xA7zApmcK",
    "colab_type": "text"
   },
   "source": [
    "Now that we have our graph created, a tensorflow session is needed to run the graph.\n",
    "\n",
    "This session will run through our graph with the batch size. It replaces the placeholders with the images and labels coming from the batch load.\n",
    "After each epoch, we back-propagate to minimize the loss.\n",
    "\n",
    "Finally, when the optimization is over we will see the accuracy over the test dataset."
   ]
  },
  {
   "cell_type": "markdown",
   "metadata": {
    "id": "83MR0VRcpuEo",
    "colab_type": "text"
   },
   "source": [
    "Variables have to be initialized before hand in the session before the optimization begines"
   ]
  },
  {
   "cell_type": "code",
   "execution_count": 25,
   "metadata": {
    "id": "AztcqiZdCjvb",
    "colab_type": "code",
    "colab": {
     "autoexec": {
      "startup": false,
      "wait_interval": 0.0
     },
     "base_uri": "https://localhost:8080/",
     "height": 476.0
    },
    "outputId": "57aefcca-d7f1-4452-e84d-cd5db0bba081",
    "executionInfo": {
     "status": "ok",
     "timestamp": 1.531681253604E12,
     "user_tz": -330.0,
     "elapsed": 298463.0,
     "user": {
      "displayName": "Mayur Madnani",
      "photoUrl": "//lh6.googleusercontent.com/-DR9irWHiJKI/AAAAAAAAAAI/AAAAAAAADgc/zqyKQCNogr4/s50-c-k-no/photo.jpg",
      "userId": "107858200557419873749"
     }
    }
   },
   "outputs": [
    {
     "name": "stdout",
     "output_type": "stream",
     "text": [
      "('Epoch:', '01', 'cost=', '0.341568323')\n",
      "('Epoch:', '02', 'cost=', '0.087993558')\n",
      "('Epoch:', '03', 'cost=', '0.061728755')\n",
      "('Epoch:', '04', 'cost=', '0.047212652')\n",
      "('Epoch:', '05', 'cost=', '0.038040448')\n",
      "('Epoch:', '06', 'cost=', '0.031928239')\n",
      "('Epoch:', '07', 'cost=', '0.026652907')\n",
      "('Epoch:', '08', 'cost=', '0.021570049')\n",
      "('Epoch:', '09', 'cost=', '0.019742979')\n",
      "('Epoch:', '10', 'cost=', '0.015144466')\n",
      "('Epoch:', '11', 'cost=', '0.014903251')\n",
      "('Epoch:', '12', 'cost=', '0.011654471')\n",
      "('Epoch:', '13', 'cost=', '0.010213887')\n",
      "('Epoch:', '14', 'cost=', '0.008475549')\n",
      "('Epoch:', '15', 'cost=', '0.008420058')\n",
      "('Epoch:', '16', 'cost=', '0.007857541')\n",
      "('Epoch:', '17', 'cost=', '0.005809290')\n",
      "('Epoch:', '18', 'cost=', '0.006477191')\n",
      "('Epoch:', '19', 'cost=', '0.005408866')\n",
      "('Epoch:', '20', 'cost=', '0.005603186')\n",
      "('Epoch:', '21', 'cost=', '0.003926132')\n",
      "('Epoch:', '22', 'cost=', '0.004557434')\n",
      "('Epoch:', '23', 'cost=', '0.004532664')\n",
      "('Epoch:', '24', 'cost=', '0.003335097')\n",
      "('Epoch:', '25', 'cost=', '0.004356161')\n",
      "Optimization Finished!\n",
      "('Accuracy:', 0.9924)\n"
     ]
    }
   ],
   "source": [
    "with tf.Session() as sess:\n",
    "    sess.run(tf.global_variables_initializer())\n",
    "\n",
    "    for epoch in range(num_epochs):\n",
    "        avg_cost = 0.\n",
    "        total_batch = int(data.train.num_examples/batch_size)\n",
    "\n",
    "        for i in range(total_batch):\n",
    "            batch_x, batch_y = data.train.next_batch(batch_size)\n",
    "            feed_dict_train = {x: batch_x, y: batch_y}\n",
    "            _, c = sess.run([optimizer, loss], feed_dict=feed_dict_train)\n",
    "            avg_cost += c / total_batch\n",
    "\n",
    "        print(\"Epoch:\", '%02d' % (epoch+1), \"cost=\", \"{:.9f}\".format(avg_cost))\n",
    "    print(\"Optimization Finished!\")\n",
    "    \n",
    "    correct_prediction = tf.equal(Y_pred_cls, Y_label_cls)\n",
    "    accuracy = tf.reduce_mean(tf.cast(correct_prediction, \"float\"))\n",
    "    print(\"Accuracy:\", accuracy.eval({x: data.test.images, y: data.test.labels}))"
   ]
  }
 ],
 "metadata": {
  "colab": {
   "name": "MNIST_CNN-Tensorflow.ipynb",
   "version": "0.3.2",
   "views": {},
   "default_view": {},
   "provenance": [],
   "collapsed_sections": []
  },
  "kernelspec": {
   "name": "python2",
   "display_name": "Python 2"
  },
  "accelerator": "GPU"
 },
 "nbformat": 4,
 "nbformat_minor": 0
}
