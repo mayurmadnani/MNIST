{
  "nbformat": 4,
  "nbformat_minor": 0,
  "metadata": {
    "colab": {
      "name": "MNIST-CNN.ipynb",
      "version": "0.3.2",
      "views": {},
      "default_view": {},
      "provenance": [],
      "collapsed_sections": []
    },
    "kernelspec": {
      "name": "python3",
      "display_name": "Python 3"
    },
    "accelerator": "GPU"
  },
  "cells": [
    {
      "metadata": {
        "id": "SnVpapQzNShU",
        "colab_type": "text"
      },
      "cell_type": "markdown",
      "source": [
        "With this tutorial, I present how to build a digit recognizer using Convolution Neural Network.\n",
        "\n",
        "Link: https://www.kaggle.com/c/digit-recognizer"
      ]
    },
    {
      "metadata": {
        "id": "QG0akjUxNzzM",
        "colab_type": "text"
      },
      "cell_type": "markdown",
      "source": [
        "MNIST (\"Modified National Institute of Standards and Technology\") is a well known pretty standard dataset. It has thousands of images of handwritten digits."
      ]
    },
    {
      "metadata": {
        "id": "wG6_V58KOjaE",
        "colab_type": "text"
      },
      "cell_type": "markdown",
      "source": [
        "Dataset is loaded below. It has images and label for each image. The whole of dataset is divided into training and testing data."
      ]
    },
    {
      "metadata": {
        "id": "K0SLP6DnI5Wt",
        "colab_type": "code",
        "colab": {
          "autoexec": {
            "startup": false,
            "wait_interval": 0
          },
          "base_uri": "https://localhost:8080/",
          "height": 51
        },
        "outputId": "c5ac2fc0-101d-486f-edfa-2f2e06261973",
        "executionInfo": {
          "status": "ok",
          "timestamp": 1531163036108,
          "user_tz": -330,
          "elapsed": 1526,
          "user": {
            "displayName": "Mayur Madnani",
            "photoUrl": "//lh6.googleusercontent.com/-DR9irWHiJKI/AAAAAAAAAAI/AAAAAAAADgc/zqyKQCNogr4/s50-c-k-no/photo.jpg",
            "userId": "107858200557419873749"
          }
        }
      },
      "cell_type": "code",
      "source": [
        "from keras.datasets import mnist\n",
        "\n",
        "(X_train, y_train), (X_test, y_test) = mnist.load_data()\n",
        "print(X_train.shape, y_train.shape)\n",
        "print(X_test.shape, y_test.shape)"
      ],
      "execution_count": 11,
      "outputs": [
        {
          "output_type": "stream",
          "text": [
            "(60000, 28, 28) (60000,)\n",
            "(10000, 28, 28) (10000,)\n"
          ],
          "name": "stdout"
        }
      ]
    },
    {
      "metadata": {
        "id": "2liKYB04Ozh9",
        "colab_type": "text"
      },
      "cell_type": "markdown",
      "source": [
        "Above, we obeserve that in total of 70K images, 60K are used for training and 10K will be used for training.\n",
        "Also, each image has dimension 28 x 28 (represented by the X_train and X_test). Y_train and Y_test are vectors of size 60K and 10K i.e. each image has a corresponding value here."
      ]
    },
    {
      "metadata": {
        "id": "RJx7BafTPYHN",
        "colab_type": "text"
      },
      "cell_type": "markdown",
      "source": [
        "Lets see how the data looks like"
      ]
    },
    {
      "metadata": {
        "id": "4ZSQKzlEJRSs",
        "colab_type": "code",
        "colab": {
          "autoexec": {
            "startup": false,
            "wait_interval": 0
          },
          "base_uri": "https://localhost:8080/",
          "height": 584
        },
        "outputId": "2466b147-3a4b-47c4-c2f5-dd8ff3094dd6",
        "executionInfo": {
          "status": "ok",
          "timestamp": 1531163040729,
          "user_tz": -330,
          "elapsed": 2497,
          "user": {
            "displayName": "Mayur Madnani",
            "photoUrl": "//lh6.googleusercontent.com/-DR9irWHiJKI/AAAAAAAAAAI/AAAAAAAADgc/zqyKQCNogr4/s50-c-k-no/photo.jpg",
            "userId": "107858200557419873749"
          }
        }
      },
      "cell_type": "code",
      "source": [
        "import numpy as np\n",
        "import matplotlib\n",
        "import matplotlib.pyplot as plt\n",
        "\n",
        "def overview(start, end, X):\n",
        "    fig = plt.figure(figsize=(10,10))\n",
        "    for i in range(start, end):\n",
        "        input_img = X[i:(i+1),:,:]\n",
        "        ax = fig.add_subplot(5,5,i+1)\n",
        "        ax.imshow(input_img[0,:,:])\n",
        "        plt.xticks(np.array([]))\n",
        "        plt.yticks(np.array([]))\n",
        "        plt.tight_layout()\n",
        "    plt.show()\n",
        "overview(0,20, X_train)"
      ],
      "execution_count": 12,
      "outputs": [
        {
          "output_type": "display_data",
          "data": {
            "image/png": "[encoded data removed]",
            "text/plain": [
              "<matplotlib.figure.Figure at 0x7f51445aed68>"
            ]
          },
          "metadata": {
            "tags": []
          }
        }
      ]
    },
    {
      "metadata": {
        "id": "9E6Sf252R_D7",
        "colab_type": "text"
      },
      "cell_type": "markdown",
      "source": [
        "Before we feed these images to the network, we do some transformations on the input data.\n",
        "\n",
        "First we make the imge shape as 28 x 28 x 1 i.e. adding a depth of 1 as the input image as seen above has only grayscale channel. Also, the input data is normalized in range of 0 to 1 and made of type float.\n"
      ]
    },
    {
      "metadata": {
        "id": "Q4sxbAWVJfHH",
        "colab_type": "code",
        "colab": {
          "autoexec": {
            "startup": false,
            "wait_interval": 0
          }
        }
      },
      "cell_type": "code",
      "source": [
        "X_train = X_train.reshape(X_train.shape[0], 28, 28, 1)\n",
        "X_test = X_test.reshape(X_test.shape[0], 28, 28, 1)\n",
        "\n",
        "X_train = X_train.astype('float32')\n",
        "X_test = X_test.astype('float32')\n",
        "\n",
        "X_train/=255\n",
        "X_test/=255"
      ],
      "execution_count": 0,
      "outputs": []
    },
    {
      "metadata": {
        "id": "-KxhyMxtTRkF",
        "colab_type": "code",
        "colab": {
          "autoexec": {
            "startup": false,
            "wait_interval": 0
          },
          "base_uri": "https://localhost:8080/",
          "height": 51
        },
        "outputId": "7a254353-70ae-4395-9afd-0236eec9b61f",
        "executionInfo": {
          "status": "ok",
          "timestamp": 1531163042995,
          "user_tz": -330,
          "elapsed": 848,
          "user": {
            "displayName": "Mayur Madnani",
            "photoUrl": "//lh6.googleusercontent.com/-DR9irWHiJKI/AAAAAAAAAAI/AAAAAAAADgc/zqyKQCNogr4/s50-c-k-no/photo.jpg",
            "userId": "107858200557419873749"
          }
        }
      },
      "cell_type": "code",
      "source": [
        "print('Training: ',X_train.shape)\n",
        "print('Test: ',X_test.shape)"
      ],
      "execution_count": 14,
      "outputs": [
        {
          "output_type": "stream",
          "text": [
            "Training:  (60000, 28, 28, 1)\n",
            "Test:  (10000, 28, 28, 1)\n"
          ],
          "name": "stdout"
        }
      ]
    },
    {
      "metadata": {
        "id": "K6C4waGUTeAj",
        "colab_type": "text"
      },
      "cell_type": "markdown",
      "source": [
        "Now for the class labels, we have a number representing it. Binary class matrix is created for the labels"
      ]
    },
    {
      "metadata": {
        "id": "Z8j_aze6JgpO",
        "colab_type": "code",
        "colab": {
          "autoexec": {
            "startup": false,
            "wait_interval": 0
          }
        }
      },
      "cell_type": "code",
      "source": [
        "from keras.utils import np_utils\n",
        "\n",
        "num_classes = 10\n",
        "\n",
        "Y_train = np_utils.to_categorical(y_train, num_classes)\n",
        "Y_test = np_utils.to_categorical(y_test, num_classes)"
      ],
      "execution_count": 0,
      "outputs": []
    },
    {
      "metadata": {
        "id": "xPJzHXFNa0ZG",
        "colab_type": "code",
        "colab": {
          "autoexec": {
            "startup": false,
            "wait_interval": 0
          },
          "base_uri": "https://localhost:8080/",
          "height": 51
        },
        "outputId": "f2eaedba-7a6d-457c-b3a5-38e7468b60d4",
        "executionInfo": {
          "status": "ok",
          "timestamp": 1531163045062,
          "user_tz": -330,
          "elapsed": 910,
          "user": {
            "displayName": "Mayur Madnani",
            "photoUrl": "//lh6.googleusercontent.com/-DR9irWHiJKI/AAAAAAAAAAI/AAAAAAAADgc/zqyKQCNogr4/s50-c-k-no/photo.jpg",
            "userId": "107858200557419873749"
          }
        }
      },
      "cell_type": "code",
      "source": [
        "print('Training: ',Y_train.shape)\n",
        "print('Test: ',Y_test.shape)"
      ],
      "execution_count": 16,
      "outputs": [
        {
          "output_type": "stream",
          "text": [
            "Training:  (60000, 10)\n",
            "Test:  (10000, 10)\n"
          ],
          "name": "stdout"
        }
      ]
    },
    {
      "metadata": {
        "id": "5Sc0VYTva3PM",
        "colab_type": "text"
      },
      "cell_type": "markdown",
      "source": [
        "Below is the network architecture for CNN."
      ]
    },
    {
      "metadata": {
        "id": "_F-CWvAdKABy",
        "colab_type": "code",
        "colab": {
          "autoexec": {
            "startup": false,
            "wait_interval": 0
          }
        }
      },
      "cell_type": "code",
      "source": [
        "from keras.models import Sequential\n",
        "from keras.layers import Convolution2D, Activation, BatchNormalization, MaxPooling2D, Dropout, Dense, Flatten, AveragePooling2D\n",
        "\n",
        "model = Sequential()\n",
        "\n",
        "model.add(Convolution2D(32, (3, 3), padding='same', input_shape=(28,28,1)))\n",
        "model.add(BatchNormalization())\n",
        "model.add(Activation('relu'))\n",
        "model.add(MaxPooling2D(pool_size=(2, 2), strides=None, padding='same'))\n",
        "model.add(Dropout(0.25))\n",
        "\n",
        "model.add(Convolution2D(64, (3, 3), padding='same'))\n",
        "model.add(BatchNormalization())\n",
        "model.add(Activation('relu'))\n",
        "model.add(MaxPooling2D(pool_size=(2, 2), strides=None, padding='same'))\n",
        "model.add(Dropout(0.25))\n",
        "\n",
        "model.add(Convolution2D(128, (3, 3), padding='same'))\n",
        "model.add(BatchNormalization())\n",
        "model.add(Activation('relu'))\n",
        "model.add(MaxPooling2D(pool_size=(2, 2), strides=None, padding='same'))\n",
        "model.add(Dropout(0.25))\n",
        "\n",
        "model.add(Convolution2D(256, (3, 3), padding='same'))\n",
        "model.add(BatchNormalization())\n",
        "model.add(Activation('relu'))\n",
        "model.add(MaxPooling2D(pool_size=(2, 2), strides=None, padding='same'))\n",
        "model.add(Dropout(0.25))\n",
        "\n",
        "model.add(Flatten())\n",
        "\n",
        "model.add(Dense(128))\n",
        "model.add(BatchNormalization())\n",
        "model.add(Activation('relu'))\n",
        "model.add(Dropout(0.25))\n",
        "\n",
        "model.add(Dense(64))\n",
        "model.add(BatchNormalization())\n",
        "model.add(Activation('relu'))\n",
        "model.add(Dropout(0.25))\n",
        "\n",
        "model.add(Dense(10))\n",
        "model.add(Activation('softmax'))"
      ],
      "execution_count": 0,
      "outputs": []
    },
    {
      "metadata": {
        "id": "IE_uadb8a_fi",
        "colab_type": "text"
      },
      "cell_type": "markdown",
      "source": [
        "We can see the summary of the model:"
      ]
    },
    {
      "metadata": {
        "id": "VO9MPGIcKS4k",
        "colab_type": "code",
        "colab": {
          "autoexec": {
            "startup": false,
            "wait_interval": 0
          },
          "base_uri": "https://localhost:8080/",
          "height": 1190
        },
        "outputId": "eb565ebe-8e92-48b0-e9ef-71373bdb5093",
        "executionInfo": {
          "status": "ok",
          "timestamp": 1531163047844,
          "user_tz": -330,
          "elapsed": 708,
          "user": {
            "displayName": "Mayur Madnani",
            "photoUrl": "//lh6.googleusercontent.com/-DR9irWHiJKI/AAAAAAAAAAI/AAAAAAAADgc/zqyKQCNogr4/s50-c-k-no/photo.jpg",
            "userId": "107858200557419873749"
          }
        }
      },
      "cell_type": "code",
      "source": [
        "model.summary()"
      ],
      "execution_count": 18,
      "outputs": [
        {
          "output_type": "stream",
          "text": [
            "_________________________________________________________________\n",
            "Layer (type)                 Output Shape              Param #   \n",
            "=================================================================\n",
            "conv2d_5 (Conv2D)            (None, 28, 28, 32)        320       \n",
            "_________________________________________________________________\n",
            "batch_normalization_7 (Batch (None, 28, 28, 32)        128       \n",
            "_________________________________________________________________\n",
            "activation_8 (Activation)    (None, 28, 28, 32)        0         \n",
            "_________________________________________________________________\n",
            "max_pooling2d_5 (MaxPooling2 (None, 14, 14, 32)        0         \n",
            "_________________________________________________________________\n",
            "dropout_7 (Dropout)          (None, 14, 14, 32)        0         \n",
            "_________________________________________________________________\n",
            "conv2d_6 (Conv2D)            (None, 14, 14, 64)        18496     \n",
            "_________________________________________________________________\n",
            "batch_normalization_8 (Batch (None, 14, 14, 64)        256       \n",
            "_________________________________________________________________\n",
            "activation_9 (Activation)    (None, 14, 14, 64)        0         \n",
            "_________________________________________________________________\n",
            "max_pooling2d_6 (MaxPooling2 (None, 7, 7, 64)          0         \n",
            "_________________________________________________________________\n",
            "dropout_8 (Dropout)          (None, 7, 7, 64)          0         \n",
            "_________________________________________________________________\n",
            "conv2d_7 (Conv2D)            (None, 7, 7, 128)         73856     \n",
            "_________________________________________________________________\n",
            "batch_normalization_9 (Batch (None, 7, 7, 128)         512       \n",
            "_________________________________________________________________\n",
            "activation_10 (Activation)   (None, 7, 7, 128)         0         \n",
            "_________________________________________________________________\n",
            "max_pooling2d_7 (MaxPooling2 (None, 4, 4, 128)         0         \n",
            "_________________________________________________________________\n",
            "dropout_9 (Dropout)          (None, 4, 4, 128)         0         \n",
            "_________________________________________________________________\n",
            "conv2d_8 (Conv2D)            (None, 4, 4, 256)         295168    \n",
            "_________________________________________________________________\n",
            "batch_normalization_10 (Batc (None, 4, 4, 256)         1024      \n",
            "_________________________________________________________________\n",
            "activation_11 (Activation)   (None, 4, 4, 256)         0         \n",
            "_________________________________________________________________\n",
            "max_pooling2d_8 (MaxPooling2 (None, 2, 2, 256)         0         \n",
            "_________________________________________________________________\n",
            "dropout_10 (Dropout)         (None, 2, 2, 256)         0         \n",
            "_________________________________________________________________\n",
            "flatten_2 (Flatten)          (None, 1024)              0         \n",
            "_________________________________________________________________\n",
            "dense_4 (Dense)              (None, 128)               131200    \n",
            "_________________________________________________________________\n",
            "batch_normalization_11 (Batc (None, 128)               512       \n",
            "_________________________________________________________________\n",
            "activation_12 (Activation)   (None, 128)               0         \n",
            "_________________________________________________________________\n",
            "dropout_11 (Dropout)         (None, 128)               0         \n",
            "_________________________________________________________________\n",
            "dense_5 (Dense)              (None, 64)                8256      \n",
            "_________________________________________________________________\n",
            "batch_normalization_12 (Batc (None, 64)                256       \n",
            "_________________________________________________________________\n",
            "activation_13 (Activation)   (None, 64)                0         \n",
            "_________________________________________________________________\n",
            "dropout_12 (Dropout)         (None, 64)                0         \n",
            "_________________________________________________________________\n",
            "dense_6 (Dense)              (None, 10)                650       \n",
            "_________________________________________________________________\n",
            "activation_14 (Activation)   (None, 10)                0         \n",
            "=================================================================\n",
            "Total params: 530,634\n",
            "Trainable params: 529,290\n",
            "Non-trainable params: 1,344\n",
            "_________________________________________________________________\n"
          ],
          "name": "stdout"
        }
      ]
    },
    {
      "metadata": {
        "id": "yvQ82H64KbAP",
        "colab_type": "code",
        "colab": {
          "autoexec": {
            "startup": false,
            "wait_interval": 0
          }
        }
      },
      "cell_type": "code",
      "source": [
        "model.compile(loss='categorical_crossentropy', optimizer='adam', metrics=['accuracy'])"
      ],
      "execution_count": 0,
      "outputs": []
    },
    {
      "metadata": {
        "id": "e3oq8alCbFt-",
        "colab_type": "text"
      },
      "cell_type": "markdown",
      "source": [
        "Now, finally the model can be run. Here epochs and batch size is configurable."
      ]
    },
    {
      "metadata": {
        "id": "1gR6ioMPKi4w",
        "colab_type": "code",
        "colab": {
          "autoexec": {
            "startup": false,
            "wait_interval": 0
          },
          "base_uri": "https://localhost:8080/",
          "height": 374
        },
        "outputId": "c552c436-c837-460a-f591-a1ff38fe5a1a",
        "executionInfo": {
          "status": "ok",
          "timestamp": 1531163566857,
          "user_tz": -330,
          "elapsed": 517721,
          "user": {
            "displayName": "Mayur Madnani",
            "photoUrl": "//lh6.googleusercontent.com/-DR9irWHiJKI/AAAAAAAAAAI/AAAAAAAADgc/zqyKQCNogr4/s50-c-k-no/photo.jpg",
            "userId": "107858200557419873749"
          }
        }
      },
      "cell_type": "code",
      "source": [
        "epochs = 10\n",
        "batch_size = 32\n",
        "\n",
        "model.fit(X_train, Y_train, \n",
        "          batch_size=batch_size, epochs=epochs, shuffle=True, verbose=1)"
      ],
      "execution_count": 20,
      "outputs": [
        {
          "output_type": "stream",
          "text": [
            "Epoch 1/10\n",
            "60000/60000 [==============================] - 53s 877us/step - loss: 0.3286 - acc: 0.9017\n",
            "Epoch 2/10\n",
            " 3552/60000 [>.............................] - ETA: 47s - loss: 0.1325 - acc: 0.9578"
          ],
          "name": "stdout"
        },
        {
          "output_type": "stream",
          "text": [
            "60000/60000 [==============================] - 51s 856us/step - loss: 0.1063 - acc: 0.9690\n",
            "Epoch 3/10\n",
            " 8864/60000 [===>..........................] - ETA: 43s - loss: 0.0901 - acc: 0.9745"
          ],
          "name": "stdout"
        },
        {
          "output_type": "stream",
          "text": [
            "60000/60000 [==============================] - 52s 859us/step - loss: 0.0862 - acc: 0.9751\n",
            "Epoch 4/10\n",
            "11296/60000 [====>.........................] - ETA: 41s - loss: 0.0678 - acc: 0.9803"
          ],
          "name": "stdout"
        },
        {
          "output_type": "stream",
          "text": [
            "60000/60000 [==============================] - 52s 859us/step - loss: 0.0708 - acc: 0.9798\n",
            "Epoch 5/10\n",
            "12384/60000 [=====>........................] - ETA: 40s - loss: 0.0705 - acc: 0.9799"
          ],
          "name": "stdout"
        },
        {
          "output_type": "stream",
          "text": [
            "60000/60000 [==============================] - 52s 860us/step - loss: 0.0649 - acc: 0.9810\n",
            "Epoch 6/10\n",
            "12832/60000 [=====>........................] - ETA: 40s - loss: 0.0595 - acc: 0.9818"
          ],
          "name": "stdout"
        },
        {
          "output_type": "stream",
          "text": [
            "60000/60000 [==============================] - 51s 855us/step - loss: 0.0561 - acc: 0.9839\n",
            "Epoch 7/10\n",
            "13024/60000 [=====>........................] - ETA: 40s - loss: 0.0419 - acc: 0.9874"
          ],
          "name": "stdout"
        },
        {
          "output_type": "stream",
          "text": [
            "60000/60000 [==============================] - 51s 857us/step - loss: 0.0525 - acc: 0.9847\n",
            "Epoch 8/10\n",
            "13184/60000 [=====>........................] - ETA: 40s - loss: 0.0516 - acc: 0.9866"
          ],
          "name": "stdout"
        },
        {
          "output_type": "stream",
          "text": [
            "60000/60000 [==============================] - 51s 856us/step - loss: 0.0483 - acc: 0.9866\n",
            "Epoch 9/10\n",
            "13184/60000 [=====>........................] - ETA: 40s - loss: 0.0392 - acc: 0.9880"
          ],
          "name": "stdout"
        },
        {
          "output_type": "stream",
          "text": [
            "60000/60000 [==============================] - 51s 853us/step - loss: 0.0441 - acc: 0.9866\n",
            "Epoch 10/10\n",
            "13184/60000 [=====>........................] - ETA: 40s - loss: 0.0366 - acc: 0.9888"
          ],
          "name": "stdout"
        },
        {
          "output_type": "stream",
          "text": [
            "60000/60000 [==============================] - 51s 857us/step - loss: 0.0399 - acc: 0.9881\n"
          ],
          "name": "stdout"
        },
        {
          "output_type": "execute_result",
          "data": {
            "text/plain": [
              "<keras.callbacks.History at 0x7f51445a7198>"
            ]
          },
          "metadata": {
            "tags": []
          },
          "execution_count": 20
        }
      ]
    },
    {
      "metadata": {
        "id": "Ocs2lfmhbPjN",
        "colab_type": "text"
      },
      "cell_type": "markdown",
      "source": [
        "Once, the network is trained, lets see how it performs with test dataset."
      ]
    },
    {
      "metadata": {
        "id": "1cqlqd_jLNxm",
        "colab_type": "code",
        "colab": {
          "autoexec": {
            "startup": false,
            "wait_interval": 0
          },
          "base_uri": "https://localhost:8080/",
          "height": 68
        },
        "outputId": "9ab4cfbd-0206-4ac8-9649-f5172cf4b818",
        "executionInfo": {
          "status": "ok",
          "timestamp": 1531163569987,
          "user_tz": -330,
          "elapsed": 3106,
          "user": {
            "displayName": "Mayur Madnani",
            "photoUrl": "//lh6.googleusercontent.com/-DR9irWHiJKI/AAAAAAAAAAI/AAAAAAAADgc/zqyKQCNogr4/s50-c-k-no/photo.jpg",
            "userId": "107858200557419873749"
          }
        }
      },
      "cell_type": "code",
      "source": [
        "score = model.evaluate(X_test, Y_test)\n",
        "print('Evaluation loss: ', score[0])\n",
        "print('Evaluation accuracy: ', score[1])"
      ],
      "execution_count": 21,
      "outputs": [
        {
          "output_type": "stream",
          "text": [
            "10000/10000 [==============================] - 2s 247us/step\n",
            "Evaluation loss:  0.01788654870198079\n",
            "Evaluation accuracy:  0.9942\n"
          ],
          "name": "stdout"
        }
      ]
    }
  ]
}